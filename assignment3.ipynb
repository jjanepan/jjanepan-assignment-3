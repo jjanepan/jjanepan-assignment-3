{
  "cells": [
    {
      "cell_type": "markdown",
      "id": "245217cc",
      "metadata": {
        "id": "245217cc"
      },
      "source": [
        "# Assignment: SVD Preprocessing on MNIST with Logistic Regression"
      ]
    },
    {
      "cell_type": "markdown",
      "id": "deffa444",
      "metadata": {
        "id": "deffa444"
      },
      "source": [
        "## Instructions:\n",
        "In this assignment, you will apply **Singular Value Decomposition (SVD)** as a preprocessing step to the **MNIST dataset** and train a **logistic regression classifier**. You will compare the model performance and training time when using different levels of SVD for dimensionality reduction.\n",
        "\n",
        "In this assignment, you will need to:\n",
        "1. Load the MNIST dataset and normalize it.\n",
        "2. Perform SVD and reduce the dimensions of the data.\n",
        "3. Train a logistic regression model on the original and SVD-reduced data.\n",
        "4. Measure and compare the training time and accuracy of the model with varying SVD components.\n",
        "5. Plot the results and analyze how SVD impacts the performance and efficiency of the model.\n",
        "\n",
        "***\n",
        "Your tasks include:\n",
        "1. Implement SVD algorithm. You are not allowed to directly use SVD implemented by other packages, but you may use functions in NumPy. (Part 2)\n",
        "2. Explore the accuracy and time performance from different numbers of SVD components. (Part 4)\n",
        "3. Visualize the accuracy, time performance and top 5 singular vectors in the dataset, analyze and explain which number of SVD component looks best to you? (Part 4,5&6) Hint: singular vectors should be reshaped to 28x28 images for visualization.\n",
        "***\n",
        "**Note that you may not import any other function or package.** Let's get started!\n"
      ]
    },
    {
      "cell_type": "markdown",
      "id": "b3e10cb3",
      "metadata": {
        "id": "b3e10cb3"
      },
      "source": [
        "## Part 1: Load the MNIST dataset and preprocess the data"
      ]
    },
    {
      "cell_type": "code",
      "execution_count": 2,
      "id": "79f2d907",
      "metadata": {
        "colab": {
          "base_uri": "https://localhost:8080/"
        },
        "id": "79f2d907",
        "outputId": "e07c740f-eab2-44b1-e832-ada5d58816b2"
      },
      "outputs": [
        {
          "output_type": "stream",
          "name": "stdout",
          "text": [
            "Loading MNIST dataset...\n"
          ]
        }
      ],
      "source": [
        "import numpy as np\n",
        "import matplotlib.pyplot as plt\n",
        "import time\n",
        "from sklearn.linear_model import LogisticRegression\n",
        "from sklearn.model_selection import train_test_split\n",
        "from sklearn.datasets import fetch_openml\n",
        "from sklearn.metrics import accuracy_score, classification_report\n",
        "\n",
        "# Load MNIST dataset\n",
        "print(\"Loading MNIST dataset...\")\n",
        "mnist = fetch_openml('mnist_784', version=1)\n",
        "X = mnist.data\n",
        "y = mnist.target\n",
        "\n",
        "# Normalize the data\n",
        "X = X / 255.0\n",
        "\n",
        "# Split into training and test sets\n",
        "X_train, X_test, y_train, y_test = train_test_split(X, y, test_size=0.2, random_state=42)\n"
      ]
    },
    {
      "cell_type": "markdown",
      "id": "28b8572d",
      "metadata": {
        "id": "28b8572d"
      },
      "source": [
        "## Part 2: Implement SVD for Dimensionality Reduction"
      ]
    },
    {
      "cell_type": "code",
      "execution_count": 3,
      "id": "b3bd59f3",
      "metadata": {
        "id": "b3bd59f3"
      },
      "outputs": [],
      "source": [
        "def apply_svd_custom(X_train, X_test, n_components):\n",
        "    X_mean = np.mean(X_train, axis=0)\n",
        "    X_train_centered = X_train - X_mean\n",
        "    X_test_centered = X_test - X_mean\n",
        "\n",
        "    covariance_matrix = np.dot(X_train_centered.T, X_train_centered) / (X_train_centered.shape[0] - 1)\n",
        "\n",
        "    eig_values, eig_vectors = np.linalg.eigh(covariance_matrix)\n",
        "\n",
        "    sorted_indices = np.argsort(eig_values)[::-1]\n",
        "    eig_vectors = eig_vectors[:, sorted_indices]\n",
        "\n",
        "    eig_vectors_reduced = eig_vectors[:, :n_components]\n",
        "\n",
        "    X_train_reduced = np.dot(X_train_centered, eig_vectors_reduced)\n",
        "    X_test_reduced = np.dot(X_test_centered, eig_vectors_reduced)\n",
        "\n",
        "    return X_train_reduced, X_test_reduced, eig_vectors_reduced"
      ]
    },
    {
      "cell_type": "markdown",
      "id": "eb2a7a9d",
      "metadata": {
        "id": "eb2a7a9d"
      },
      "source": [
        "## Part 3: Train Logistic Regression and Measure Performance"
      ]
    },
    {
      "cell_type": "code",
      "execution_count": 4,
      "id": "dbfc0b10",
      "metadata": {
        "id": "dbfc0b10"
      },
      "outputs": [],
      "source": [
        "# Function to train logistic regression and track training time\n",
        "def train_logistic_regression(X_train, y_train, X_test, y_test):\n",
        "    model = LogisticRegression(max_iter=1000, solver='saga', random_state=42, multi_class='multinomial')\n",
        "\n",
        "    # Measure training time\n",
        "    start_time = time.time()\n",
        "    model.fit(X_train, y_train)\n",
        "    training_time = time.time() - start_time\n",
        "\n",
        "    y_pred = model.predict(X_test)\n",
        "    accuracy = accuracy_score(y_test, y_pred)\n",
        "\n",
        "    return accuracy, training_time\n"
      ]
    },
    {
      "cell_type": "markdown",
      "id": "2e557a05",
      "metadata": {
        "id": "2e557a05"
      },
      "source": [
        "## Part 4: Experiment with Different Levels of SVD\n",
        "\n",
        "Now, apply SVD with varying numbers of components and observe how the dimensionality reduction impacts the model's performance. Record both the accuracy and training time for each number of components.\n"
      ]
    },
    {
      "cell_type": "code",
      "execution_count": 5,
      "id": "3a460725",
      "metadata": {
        "colab": {
          "base_uri": "https://localhost:8080/"
        },
        "id": "3a460725",
        "outputId": "8740b3a4-b244-4edb-e3e2-3f15d6807e07"
      },
      "outputs": [
        {
          "output_type": "stream",
          "name": "stdout",
          "text": [
            "Training models with different levels of SVD preprocessing...\n",
            "Applying custom SVD with 500 components...\n"
          ]
        },
        {
          "output_type": "stream",
          "name": "stderr",
          "text": [
            "/usr/local/lib/python3.10/dist-packages/sklearn/linear_model/_logistic.py:1247: FutureWarning: 'multi_class' was deprecated in version 1.5 and will be removed in 1.7. From then on, it will always use 'multinomial'. Leave it to its default value to avoid this warning.\n",
            "  warnings.warn(\n"
          ]
        },
        {
          "output_type": "stream",
          "name": "stdout",
          "text": [
            "SVD components: 500, Accuracy: 0.9205, Training time: 348.4430 seconds\n",
            "Applying custom SVD with 400 components...\n"
          ]
        },
        {
          "output_type": "stream",
          "name": "stderr",
          "text": [
            "/usr/local/lib/python3.10/dist-packages/sklearn/linear_model/_logistic.py:1247: FutureWarning: 'multi_class' was deprecated in version 1.5 and will be removed in 1.7. From then on, it will always use 'multinomial'. Leave it to its default value to avoid this warning.\n",
            "  warnings.warn(\n"
          ]
        },
        {
          "output_type": "stream",
          "name": "stdout",
          "text": [
            "SVD components: 400, Accuracy: 0.9196, Training time: 285.2405 seconds\n",
            "Applying custom SVD with 50 components...\n"
          ]
        },
        {
          "output_type": "stream",
          "name": "stderr",
          "text": [
            "/usr/local/lib/python3.10/dist-packages/sklearn/linear_model/_logistic.py:1247: FutureWarning: 'multi_class' was deprecated in version 1.5 and will be removed in 1.7. From then on, it will always use 'multinomial'. Leave it to its default value to avoid this warning.\n",
            "  warnings.warn(\n"
          ]
        },
        {
          "output_type": "stream",
          "name": "stdout",
          "text": [
            "SVD components: 50, Accuracy: 0.9080, Training time: 14.7774 seconds\n",
            "Applying custom SVD with 20 components...\n"
          ]
        },
        {
          "output_type": "stream",
          "name": "stderr",
          "text": [
            "/usr/local/lib/python3.10/dist-packages/sklearn/linear_model/_logistic.py:1247: FutureWarning: 'multi_class' was deprecated in version 1.5 and will be removed in 1.7. From then on, it will always use 'multinomial'. Leave it to its default value to avoid this warning.\n",
            "  warnings.warn(\n"
          ]
        },
        {
          "output_type": "stream",
          "name": "stdout",
          "text": [
            "SVD components: 20, Accuracy: 0.8784, Training time: 3.5588 seconds\n",
            "Applying custom SVD with 5 components...\n"
          ]
        },
        {
          "output_type": "stream",
          "name": "stderr",
          "text": [
            "/usr/local/lib/python3.10/dist-packages/sklearn/linear_model/_logistic.py:1247: FutureWarning: 'multi_class' was deprecated in version 1.5 and will be removed in 1.7. From then on, it will always use 'multinomial'. Leave it to its default value to avoid this warning.\n",
            "  warnings.warn(\n"
          ]
        },
        {
          "output_type": "stream",
          "name": "stdout",
          "text": [
            "SVD components: 5, Accuracy: 0.6796, Training time: 0.7777 seconds\n",
            "Components: 500, Accuracy: 0.9205, Time: 348.4430 seconds\n",
            "Components: 400, Accuracy: 0.9196, Time: 285.2405 seconds\n",
            "Components: 50, Accuracy: 0.9080, Time: 14.7774 seconds\n",
            "Components: 20, Accuracy: 0.8784, Time: 3.5588 seconds\n",
            "Components: 5, Accuracy: 0.6796, Time: 0.7777 seconds\n"
          ]
        }
      ],
      "source": [
        "svd_components = [500, 400, 50, 20, 5]  # Updated component list\n",
        "\n",
        "# Store the results\n",
        "results = []\n",
        "\n",
        "print(\"Training models with different levels of SVD preprocessing...\")\n",
        "for n_components in svd_components:\n",
        "    print(f\"Applying custom SVD with {n_components} components...\")\n",
        "\n",
        "    # Apply SVD to the training and test sets using apply_svd_custom\n",
        "    X_train_svd, X_test_svd, _ = apply_svd_custom(X_train, X_test, n_components)\n",
        "\n",
        "    # Train the logistic regression model and get accuracy and training time\n",
        "    accuracy, training_time = train_logistic_regression(X_train_svd, y_train, X_test_svd, y_test)\n",
        "\n",
        "    # Append the results (n_components, accuracy, training_time) to the results list\n",
        "    results.append({\n",
        "        'n_components': n_components,\n",
        "        'accuracy': accuracy,\n",
        "        'training_time': training_time\n",
        "    })\n",
        "\n",
        "    # Output the results for this run\n",
        "    print(f\"SVD components: {n_components}, Accuracy: {accuracy:.4f}, Training time: {training_time:.4f} seconds\")\n",
        "\n",
        "# After the loop, print all results\n",
        "for result in results:\n",
        "    print(f\"Components: {result['n_components']}, Accuracy: {result['accuracy']:.4f}, Time: {result['training_time']:.4f} seconds\")\n",
        "\n",
        "\n"
      ]
    },
    {
      "cell_type": "markdown",
      "id": "ea7aca12",
      "metadata": {
        "id": "ea7aca12"
      },
      "source": [
        "## Part 5: Visualize and Analyze the Results\n",
        "\n",
        "Finally, plot the accuracy, training time as a function of the number of SVD components, and top 5 singular vectors. This will help you understand the trade-off between dimensionality reduction, accuracy, and model training time, and how SVD generally works. Hint: singular vectors should be reshaped to 28x28 images for visualization.\n"
      ]
    },
    {
      "cell_type": "code",
      "execution_count": 7,
      "id": "92ef0497",
      "metadata": {
        "colab": {
          "base_uri": "https://localhost:8080/",
          "height": 507
        },
        "id": "92ef0497",
        "outputId": "a9dd1eb7-c454-43af-f08f-b9d5cc7ca114"
      },
      "outputs": [
        {
          "output_type": "display_data",
          "data": {
            "text/plain": [
              "<Figure size 1000x500 with 2 Axes>"
            ],
            "image/png": "[encoded data removed]"
          },
          "metadata": {}
        }
      ],
      "source": [
        "## Your implementation here...\n",
        "## You may add necessary lines in Part 4 to access data for visualization\n",
        "results = [\n",
        "    {'n_components': 500, 'accuracy': 0.9205, 'training_time': 348.4430},\n",
        "    {'n_components': 400, 'accuracy': 0.9196, 'training_time': 285.2405},\n",
        "    {'n_components': 50,  'accuracy': 0.9080, 'training_time': 14.7774},\n",
        "    {'n_components': 20,  'accuracy': 0.8784, 'training_time': 3.5588},\n",
        "    {'n_components': 5,   'accuracy': 0.6796, 'training_time': 0.7777}\n",
        "]\n",
        "\n",
        "# Extract the number of components, accuracy, and training time from the results\n",
        "components = [result['n_components'] for result in results]\n",
        "accuracies = [result['accuracy'] for result in results]\n",
        "training_times = [result['training_time'] for result in results]\n",
        "\n",
        "# Now create the plots\n",
        "import matplotlib.pyplot as plt\n",
        "\n",
        "# Plot accuracy vs number of components\n",
        "plt.figure(figsize=(10, 5))\n",
        "\n",
        "# Plot Accuracy vs Number of SVD Components\n",
        "plt.subplot(1, 2, 1)\n",
        "plt.plot(components, accuracies, marker='x', linestyle='-', color='green')\n",
        "plt.title('Accuracy vs Number of SVD Components')\n",
        "plt.xlabel('Number of SVD Components')\n",
        "plt.ylabel('Accuracy')\n",
        "plt.grid(True)\n",
        "\n",
        "# Plot Training Time vs Number of SVD Components\n",
        "plt.subplot(1, 2, 2)\n",
        "plt.plot(components, training_times, marker='x', linestyle='-', color='red')\n",
        "plt.title('Training Time vs Number of SVD Components')\n",
        "plt.xlabel('Number of SVD Components')\n",
        "plt.ylabel('Training Time (seconds)')\n",
        "plt.grid(True)\n",
        "\n",
        "plt.tight_layout()\n",
        "plt.show()"
      ]
    },
    {
      "cell_type": "markdown",
      "id": "4210569a",
      "metadata": {
        "id": "4210569a"
      },
      "source": [
        "## Part 6: Analyze / Conclusion\n",
        "\n",
        "YOUR ANSWER:"
      ]
    },
    {
      "cell_type": "code",
      "execution_count": 8,
      "id": "d47f043c",
      "metadata": {
        "colab": {
          "base_uri": "https://localhost:8080/",
          "height": 193
        },
        "id": "d47f043c",
        "outputId": "374aafdf-ab3d-429b-afed-e4c80fc79425"
      },
      "outputs": [
        {
          "output_type": "error",
          "ename": "SyntaxError",
          "evalue": "invalid syntax (<ipython-input-8-00dd0a10699c>, line 1)",
          "traceback": [
            "\u001b[0;36m  File \u001b[0;32m\"<ipython-input-8-00dd0a10699c>\"\u001b[0;36m, line \u001b[0;32m1\u001b[0m\n\u001b[0;31m    The plots reveals a clear trade-off between accuracy and training time as the number of SVD components increases. Initially, accuracy improves significantly from 0.6796 (with 5 components) to around 0.9205 (with 500 components), but after 50 components, the gains become marginal. Conversely, training time increases sharply, from less than a second with 5 components to over 348 seconds with 500 components. An optimal balance between accuracy and efficiency appears to be around 50 to 100 components, where accuracy is high (above 0.9080) and training time remains manageable. Beyond this point, the accuracy gains diminish while the computational cost rises exponentially, suggesting that for most practical applications, sticking to 50-100 components would provide a good balance between performance and time.\u001b[0m\n\u001b[0m        ^\u001b[0m\n\u001b[0;31mSyntaxError\u001b[0m\u001b[0;31m:\u001b[0m invalid syntax\n"
          ]
        }
      ],
      "source": [
        "The plots reveals a clear trade-off between accuracy and training time as the number of SVD\n",
        " components increases. Initially, accuracy improves significantly from 0.6796 (with 5 components)\n",
        "  to around 0.9205 (with 500 components), but after 50 components, the gains become marginal.\n",
        "  Conversely, training time increases sharply, from less than a second with 5 components to\n",
        "  over 348 seconds with 500 components. An optimal balance between accuracy and efficiency\n",
        "  appears to be around 50 to 100 components, where accuracy is high (above 0.9080) and training\n",
        "   time remains manageable. Beyond this point, the accuracy gains diminish while the computational\n",
        "    cost rises exponentially, suggesting that for most practical applications, sticking to\n",
        "    50-100 components would provide a good balance between performance and time."
      ]
    }
  ],
  "metadata": {
    "kernelspec": {
      "display_name": "Python 3",
      "language": "python",
      "name": "python3"
    },
    "language_info": {
      "codemirror_mode": {
        "name": "ipython",
        "version": 3
      },
      "file_extension": ".py",
      "mimetype": "text/x-python",
      "name": "python",
      "nbconvert_exporter": "python",
      "pygments_lexer": "ipython3",
      "version": "3.8.10"
    },
    "colab": {
      "provenance": []
    }
  },
  "nbformat": 4,
  "nbformat_minor": 5
}